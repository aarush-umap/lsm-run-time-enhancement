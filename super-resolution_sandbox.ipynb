{
 "cells": [
  {
   "cell_type": "markdown",
   "metadata": {},
   "source": [
    "# Imports"
   ]
  },
  {
   "cell_type": "code",
   "execution_count": 1,
   "metadata": {},
   "outputs": [],
   "source": [
    "%load_ext autoreload\n",
    "%autoreload 2"
   ]
  },
  {
   "cell_type": "code",
   "execution_count": 2,
   "metadata": {},
   "outputs": [],
   "source": [
    "%reload_ext autoreload"
   ]
  },
  {
   "cell_type": "code",
   "execution_count": 3,
   "metadata": {
    "tags": []
   },
   "outputs": [],
   "source": [
    "from skimage import io\n",
    "from skimage import img_as_uint\n",
    "from glob import glob\n",
    "import numpy as np\n",
    "import yaml\n",
    "from enhancer import Enhancer\n",
    "import os.path as path\n",
    "from lsm_utils import normalize_16bit_images, compute_norm_range"
   ]
  },
  {
   "cell_type": "markdown",
   "metadata": {},
   "source": [
    "# Load data \n",
    "- SHG samples\n",
    "- load model config data from yaml file"
   ]
  },
  {
   "cell_type": "code",
   "execution_count": 4,
   "metadata": {},
   "outputs": [
    {
     "name": "stdout",
     "output_type": "stream",
     "text": [
      "sample_data/target\\*.tif\n"
     ]
    },
    {
     "name": "stderr",
     "output_type": "stream",
     "text": [
      "100%|██████████| 1/1 [00:00<00:00,  2.55it/s]\n"
     ]
    },
    {
     "name": "stdout",
     "output_type": "stream",
     "text": [
      "sample_data/input\\*.tif\n"
     ]
    },
    {
     "name": "stderr",
     "output_type": "stream",
     "text": [
      "100%|██████████| 1/1 [00:00<00:00,  2.64it/s]\n"
     ]
    }
   ],
   "source": [
    "vmin_t, vmax_t, fail_names_t = compute_norm_range('sample_data/target', ext='tif', percentiles=(1, 99.5), sample_r=1)\n",
    "vmin_i, vmax_i, fail_names_i = compute_norm_range('sample_data/input', ext='tif', percentiles=(1, 99.5), sample_r=1)\n",
    "vmin = min(vmin_i, vmin_t)\n",
    "vmax = max(vmax_i, vmax_t)\n",
    "if len(fail_names_i + fail_names_t) != 0:\n",
    "    print('Datasets corrupted: input: {fail_names_i}, target: {fail_neams_t}')"
   ]
  },
  {
   "cell_type": "code",
   "execution_count": 5,
   "metadata": {
    "tags": []
   },
   "outputs": [
    {
     "name": "stdout",
     "output_type": "stream",
     "text": [
      "sample_data\\*.tif\n"
     ]
    },
    {
     "name": "stderr",
     "output_type": "stream",
     "text": [
      "100%|██████████| 1/1 [00:00<00:00,  2.87it/s]\n"
     ]
    }
   ],
   "source": [
    "vmin, vmax, fail_names = compute_norm_range('sample_data', ext='tif', percentiles=(1, 99.5), sample_r=1)\n",
    "config = yaml.load(open(\"model_config.yaml\", \"r\"), Loader=yaml.FullLoader)\n",
    "config['dataset'] = 'sample_data'"
   ]
  },
  {
   "cell_type": "markdown",
   "metadata": {},
   "source": [
    "# Create Enhancer instance"
   ]
  },
  {
   "cell_type": "code",
   "execution_count": 6,
   "metadata": {},
   "outputs": [
    {
     "name": "stderr",
     "output_type": "stream",
     "text": [
      "c:\\Users\\lociuser\\mambaforge\\envs\\lsm-run-time-enhancement\\Lib\\site-packages\\torch\\overrides.py:110: UserWarning: 'has_cuda' is deprecated, please use 'torch.backends.cuda.is_built()'\n",
      "  torch.has_cuda,\n",
      "c:\\Users\\lociuser\\mambaforge\\envs\\lsm-run-time-enhancement\\Lib\\site-packages\\torch\\overrides.py:111: UserWarning: 'has_cudnn' is deprecated, please use 'torch.backends.cudnn.is_available()'\n",
      "  torch.has_cudnn,\n",
      "c:\\Users\\lociuser\\mambaforge\\envs\\lsm-run-time-enhancement\\Lib\\site-packages\\torch\\overrides.py:117: UserWarning: 'has_mps' is deprecated, please use 'torch.backends.mps.is_built()'\n",
      "  torch.has_mps,\n",
      "c:\\Users\\lociuser\\mambaforge\\envs\\lsm-run-time-enhancement\\Lib\\site-packages\\torch\\overrides.py:118: UserWarning: 'has_mkldnn' is deprecated, please use 'torch.backends.mkldnn.is_available()'\n",
      "  torch.has_mkldnn,\n"
     ]
    }
   ],
   "source": [
    "enhancer = Enhancer(config, scale_factor=2, perceptual_loss=True, adversarial_loss=True)"
   ]
  },
  {
   "cell_type": "code",
   "execution_count": 7,
   "metadata": {},
   "outputs": [
    {
     "name": "stdout",
     "output_type": "stream",
     "text": [
      "All image pairs: 1, Remaining image pairs: 1\n"
     ]
    },
    {
     "ename": "ValueError",
     "evalue": "num_samples should be a positive integer value, but got num_samples=0",
     "output_type": "error",
     "traceback": [
      "\u001b[1;31m---------------------------------------------------------------------------\u001b[0m",
      "\u001b[1;31mValueError\u001b[0m                                Traceback (most recent call last)",
      "\u001b[1;32mc:\\Users\\lociuser\\Documents\\GitHub\\lsm-run-time-enhancement\\super-resolution_sandbox.ipynb Cell 10\u001b[0m line \u001b[0;36m1\n\u001b[1;32m----> <a href='vscode-notebook-cell:/c%3A/Users/lociuser/Documents/GitHub/lsm-run-time-enhancement/super-resolution_sandbox.ipynb#X13sZmlsZQ%3D%3D?line=0'>1</a>\u001b[0m enhancer\u001b[39m.\u001b[39;49mtrain(write_log\u001b[39m=\u001b[39;49m\u001b[39mTrue\u001b[39;49;00m, valid_r\u001b[39m=\u001b[39;49m\u001b[39m1\u001b[39;49m)\n",
      "File \u001b[1;32mc:\\Users\\lociuser\\Documents\\GitHub\\lsm-run-time-enhancement\\enhancer.py:237\u001b[0m, in \u001b[0;36mEnhancer.train\u001b[1;34m(self, write_log, valid_r)\u001b[0m\n\u001b[0;32m    236\u001b[0m \u001b[39mdef\u001b[39;00m \u001b[39mtrain\u001b[39m(\u001b[39mself\u001b[39m, write_log\u001b[39m=\u001b[39m\u001b[39mFalse\u001b[39;00m, valid_r\u001b[39m=\u001b[39m\u001b[39m0.2\u001b[39m):\n\u001b[1;32m--> 237\u001b[0m     \u001b[39mself\u001b[39;49m\u001b[39m.\u001b[39;49mconfigure_dataset(exclude_bg\u001b[39m=\u001b[39;49m\u001b[39mFalse\u001b[39;49;00m)\n\u001b[0;32m    238\u001b[0m     \u001b[39mself\u001b[39m\u001b[39m.\u001b[39mconfigure_optimizer()\n\u001b[0;32m    239\u001b[0m     config \u001b[39m=\u001b[39m \u001b[39mself\u001b[39m\u001b[39m.\u001b[39mconfig\n",
      "File \u001b[1;32mc:\\Users\\lociuser\\Documents\\GitHub\\lsm-run-time-enhancement\\enhancer.py:87\u001b[0m, in \u001b[0;36mEnhancer.configure_dataset\u001b[1;34m(self, exclude_bg)\u001b[0m\n\u001b[0;32m     85\u001b[0m pair_fnames \u001b[39m=\u001b[39m \u001b[39mlist\u001b[39m(\u001b[39mzip\u001b[39m(input_fnames, target_fnames))\n\u001b[0;32m     86\u001b[0m \u001b[39mprint\u001b[39m(\u001b[39mf\u001b[39m\u001b[39m'\u001b[39m\u001b[39mAll image pairs: \u001b[39m\u001b[39m{\u001b[39;00mn_pairs\u001b[39m}\u001b[39;00m\u001b[39m, Remaining image pairs: \u001b[39m\u001b[39m{\u001b[39;00m\u001b[39mlen\u001b[39m(pair_fnames)\u001b[39m}\u001b[39;00m\u001b[39m'\u001b[39m)\n\u001b[1;32m---> 87\u001b[0m train_loader, valid_loader \u001b[39m=\u001b[39m prepare_train_valid_loader(pair_fnames, config[\u001b[39m'\u001b[39;49m\u001b[39mnorm-range\u001b[39;49m\u001b[39m'\u001b[39;49m], config[\u001b[39m'\u001b[39;49m\u001b[39mnorm-range-target\u001b[39;49m\u001b[39m'\u001b[39;49m], \u001b[39m0.95\u001b[39;49m, config[\u001b[39m'\u001b[39;49m\u001b[39mbatch-size\u001b[39;49m\u001b[39m'\u001b[39;49m], config[\u001b[39m'\u001b[39;49m\u001b[39mthreads\u001b[39;49m\u001b[39m'\u001b[39;49m])\n\u001b[0;32m     88\u001b[0m \u001b[39mself\u001b[39m\u001b[39m.\u001b[39mvalid_dataloader \u001b[39m=\u001b[39m valid_loader\n\u001b[0;32m     89\u001b[0m \u001b[39mself\u001b[39m\u001b[39m.\u001b[39mtrain_dataloader \u001b[39m=\u001b[39m train_loader\n",
      "File \u001b[1;32mc:\\Users\\lociuser\\Documents\\GitHub\\lsm-run-time-enhancement\\lsm_dataset.py:130\u001b[0m, in \u001b[0;36mprepare_train_valid_loader\u001b[1;34m(file_dirs, norm_range, norm_range_target, split, bs, nw, exclude_list)\u001b[0m\n\u001b[0;32m    128\u001b[0m split_idx \u001b[39m=\u001b[39m \u001b[39mint\u001b[39m(np\u001b[39m.\u001b[39mfloor(\u001b[39mlen\u001b[39m(file_dirs)\u001b[39m*\u001b[39msplit)) \n\u001b[0;32m    129\u001b[0m train_dataset \u001b[39m=\u001b[39m ImagePairDataset(file_dirs[:split_idx], norm_range, norm_range_target) \n\u001b[1;32m--> 130\u001b[0m train_loader \u001b[39m=\u001b[39m DataLoader(train_dataset, batch_size\u001b[39m=\u001b[39;49mbs, num_workers\u001b[39m=\u001b[39;49mnw, shuffle\u001b[39m=\u001b[39;49m\u001b[39mTrue\u001b[39;49;00m) \n\u001b[0;32m    131\u001b[0m \u001b[39mprint\u001b[39m(\u001b[39m\"\u001b[39m\u001b[39mTrain loader: \u001b[39m\u001b[39m\"\u001b[39m, \u001b[39mlen\u001b[39m(train_loader))\n\u001b[0;32m    132\u001b[0m \u001b[39mif\u001b[39;00m split\u001b[39m>\u001b[39m\u001b[39m0\u001b[39m: \n",
      "File \u001b[1;32mc:\\Users\\lociuser\\mambaforge\\envs\\lsm-run-time-enhancement\\Lib\\site-packages\\torch\\utils\\data\\dataloader.py:349\u001b[0m, in \u001b[0;36mDataLoader.__init__\u001b[1;34m(self, dataset, batch_size, shuffle, sampler, batch_sampler, num_workers, collate_fn, pin_memory, drop_last, timeout, worker_init_fn, multiprocessing_context, generator, prefetch_factor, persistent_workers, pin_memory_device)\u001b[0m\n\u001b[0;32m    347\u001b[0m \u001b[39melse\u001b[39;00m:  \u001b[39m# map-style\u001b[39;00m\n\u001b[0;32m    348\u001b[0m     \u001b[39mif\u001b[39;00m shuffle:\n\u001b[1;32m--> 349\u001b[0m         sampler \u001b[39m=\u001b[39m RandomSampler(dataset, generator\u001b[39m=\u001b[39;49mgenerator)  \u001b[39m# type: ignore[arg-type]\u001b[39;00m\n\u001b[0;32m    350\u001b[0m     \u001b[39melse\u001b[39;00m:\n\u001b[0;32m    351\u001b[0m         sampler \u001b[39m=\u001b[39m SequentialSampler(dataset)  \u001b[39m# type: ignore[arg-type]\u001b[39;00m\n",
      "File \u001b[1;32mc:\\Users\\lociuser\\mambaforge\\envs\\lsm-run-time-enhancement\\Lib\\site-packages\\torch\\utils\\data\\sampler.py:140\u001b[0m, in \u001b[0;36mRandomSampler.__init__\u001b[1;34m(self, data_source, replacement, num_samples, generator)\u001b[0m\n\u001b[0;32m    137\u001b[0m     \u001b[39mraise\u001b[39;00m \u001b[39mTypeError\u001b[39;00m(\u001b[39mf\u001b[39m\u001b[39m\"\u001b[39m\u001b[39mreplacement should be a boolean value, but got replacement=\u001b[39m\u001b[39m{\u001b[39;00m\u001b[39mself\u001b[39m\u001b[39m.\u001b[39mreplacement\u001b[39m}\u001b[39;00m\u001b[39m\"\u001b[39m)\n\u001b[0;32m    139\u001b[0m \u001b[39mif\u001b[39;00m \u001b[39mnot\u001b[39;00m \u001b[39misinstance\u001b[39m(\u001b[39mself\u001b[39m\u001b[39m.\u001b[39mnum_samples, \u001b[39mint\u001b[39m) \u001b[39mor\u001b[39;00m \u001b[39mself\u001b[39m\u001b[39m.\u001b[39mnum_samples \u001b[39m<\u001b[39m\u001b[39m=\u001b[39m \u001b[39m0\u001b[39m:\n\u001b[1;32m--> 140\u001b[0m     \u001b[39mraise\u001b[39;00m \u001b[39mValueError\u001b[39;00m(\u001b[39mf\u001b[39m\u001b[39m\"\u001b[39m\u001b[39mnum_samples should be a positive integer value, but got num_samples=\u001b[39m\u001b[39m{\u001b[39;00m\u001b[39mself\u001b[39m\u001b[39m.\u001b[39mnum_samples\u001b[39m}\u001b[39;00m\u001b[39m\"\u001b[39m)\n",
      "\u001b[1;31mValueError\u001b[0m: num_samples should be a positive integer value, but got num_samples=0"
     ]
    }
   ],
   "source": [
    "enhancer.train(write_log=True, valid_r=1)"
   ]
  },
  {
   "cell_type": "code",
   "execution_count": null,
   "metadata": {},
   "outputs": [
    {
     "ename": "AttributeError",
     "evalue": "'Enhancer' object has no attribute 'valid_list'",
     "output_type": "error",
     "traceback": [
      "\u001b[1;31m---------------------------------------------------------------------------\u001b[0m",
      "\u001b[1;31mAttributeError\u001b[0m                            Traceback (most recent call last)",
      "\u001b[1;32mc:\\Users\\aarus\\College\\Senior\\loci-lab\\lsm-run-time-enhancement\\super-resolution_sandbox.ipynb Cell 7\u001b[0m line \u001b[0;36m1\n\u001b[1;32m----> <a href='vscode-notebook-cell:/c%3A/Users/aarus/College/Senior/loci-lab/lsm-run-time-enhancement/super-resolution_sandbox.ipynb#X11sZmlsZQ%3D%3D?line=0'>1</a>\u001b[0m enhancer\u001b[39m.\u001b[39;49menhance()\n",
      "File \u001b[1;32mc:\\Users\\aarus\\College\\Senior\\loci-lab\\lsm-run-time-enhancement\\enhancer.py:271\u001b[0m, in \u001b[0;36mEnhancer.enhance\u001b[1;34m(self, sampling, sample_rate)\u001b[0m\n\u001b[0;32m    269\u001b[0m output_path \u001b[39m=\u001b[39m os\u001b[39m.\u001b[39mpath\u001b[39m.\u001b[39mjoin(\u001b[39m'\u001b[39m\u001b[39moutput\u001b[39m\u001b[39m'\u001b[39m, config[\u001b[39m'\u001b[39m\u001b[39mdataset\u001b[39m\u001b[39m'\u001b[39m], \u001b[39m'\u001b[39m\u001b[39moutput\u001b[39m\u001b[39m'\u001b[39m)\n\u001b[0;32m    270\u001b[0m target_path \u001b[39m=\u001b[39m os\u001b[39m.\u001b[39mpath\u001b[39m.\u001b[39mjoin(\u001b[39m'\u001b[39m\u001b[39moutput\u001b[39m\u001b[39m'\u001b[39m, config[\u001b[39m'\u001b[39m\u001b[39mdataset\u001b[39m\u001b[39m'\u001b[39m], \u001b[39m'\u001b[39m\u001b[39mtarget\u001b[39m\u001b[39m'\u001b[39m)\n\u001b[1;32m--> 271\u001b[0m input_images \u001b[39m=\u001b[39m \u001b[39mself\u001b[39;49m\u001b[39m.\u001b[39;49mvalid_list\n\u001b[0;32m    272\u001b[0m \u001b[39mif\u001b[39;00m sampling:\n\u001b[0;32m    273\u001b[0m     shutil\u001b[39m.\u001b[39mrmtree(os\u001b[39m.\u001b[39mpath\u001b[39m.\u001b[39mjoin(\u001b[39m'\u001b[39m\u001b[39moutput\u001b[39m\u001b[39m'\u001b[39m, config[\u001b[39m'\u001b[39m\u001b[39mdataset\u001b[39m\u001b[39m'\u001b[39m]))\n",
      "File \u001b[1;32mc:\\Users\\aarus\\miniforge3\\envs\\lsm-run-time-enhancement\\Lib\\site-packages\\torch\\nn\\modules\\module.py:1695\u001b[0m, in \u001b[0;36mModule.__getattr__\u001b[1;34m(self, name)\u001b[0m\n\u001b[0;32m   1693\u001b[0m     \u001b[39mif\u001b[39;00m name \u001b[39min\u001b[39;00m modules:\n\u001b[0;32m   1694\u001b[0m         \u001b[39mreturn\u001b[39;00m modules[name]\n\u001b[1;32m-> 1695\u001b[0m \u001b[39mraise\u001b[39;00m \u001b[39mAttributeError\u001b[39;00m(\u001b[39mf\u001b[39m\u001b[39m\"\u001b[39m\u001b[39m'\u001b[39m\u001b[39m{\u001b[39;00m\u001b[39mtype\u001b[39m(\u001b[39mself\u001b[39m)\u001b[39m.\u001b[39m\u001b[39m__name__\u001b[39m\u001b[39m}\u001b[39;00m\u001b[39m'\u001b[39m\u001b[39m object has no attribute \u001b[39m\u001b[39m'\u001b[39m\u001b[39m{\u001b[39;00mname\u001b[39m}\u001b[39;00m\u001b[39m'\u001b[39m\u001b[39m\"\u001b[39m)\n",
      "\u001b[1;31mAttributeError\u001b[0m: 'Enhancer' object has no attribute 'valid_list'"
     ]
    }
   ],
   "source": [
    "enhancer.enhance()"
   ]
  }
 ],
 "metadata": {
  "kernelspec": {
   "display_name": "lsm-run-time-enhancement",
   "language": "python",
   "name": "python3"
  },
  "language_info": {
   "codemirror_mode": {
    "name": "ipython",
    "version": 3
   },
   "file_extension": ".py",
   "mimetype": "text/x-python",
   "name": "python",
   "nbconvert_exporter": "python",
   "pygments_lexer": "ipython3",
   "version": "3.11.6"
  }
 },
 "nbformat": 4,
 "nbformat_minor": 2
}
