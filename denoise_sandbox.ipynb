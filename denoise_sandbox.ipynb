{
 "cells": [
  {
   "cell_type": "markdown",
   "metadata": {},
   "source": [
    "# Imports"
   ]
  },
  {
   "cell_type": "code",
   "execution_count": 1,
   "metadata": {},
   "outputs": [],
   "source": [
    "%load_ext autoreload\n",
    "%autoreload 2"
   ]
  },
  {
   "cell_type": "code",
   "execution_count": 2,
   "metadata": {},
   "outputs": [],
   "source": [
    "%reload_ext autoreload"
   ]
  },
  {
   "cell_type": "code",
   "execution_count": 3,
   "metadata": {},
   "outputs": [],
   "source": [
    "from skimage import io\n",
    "from skimage import img_as_uint\n",
    "from glob import glob\n",
    "import numpy as np\n",
    "import tifffile\n",
    "\n",
    "import os\n",
    "os.environ[\"PYTORCH_CUDA_ALLOC_CONF\"] = \"max_split_size_mb:512\"\n",
    "import torch\n",
    "torch.cuda.empty_cache()\n",
    "#import torch\n",
    "#torch.cuda.set_per_process_memory_fraction(0.5, 0)\n",
    "\n",
    "from denoiser import Denoiser\n",
    "from lsm_utils import normalize_16bit_images, compute_norm_range\n",
    "import yaml"
   ]
  },
  {
   "cell_type": "markdown",
   "metadata": {},
   "source": [
    "# Load data \n",
    "- SHG samples\n",
    "- load model config data from yaml file"
   ]
  },
  {
   "cell_type": "code",
   "execution_count": 7,
   "metadata": {},
   "outputs": [],
   "source": [
    "def sandbox_compute_norm_range(fname, percentiles=(0, 100), sample_r=0.1):\n",
    "    max_val = []\n",
    "    min_val = []\n",
    "    fail_names = []\n",
    "    try:\n",
    "        img = img_as_uint(io.imread(fname))\n",
    "    except Exception as e:\n",
    "        print(e)\n",
    "        print(fname)\n",
    "        fail_names.append(fname)\n",
    "    max_val.append(np.percentile(img[:256,:256], percentiles[1]))\n",
    "    min_val.append(np.percentile(img[:256,:256], percentiles[0]))\n",
    "    max_val: float | np.ndarray = np.percentile(np.array(max_val), 98)\n",
    "    min_val: float | np.ndarray = np.percentile(np.array(min_val), 2)\n",
    "    \n",
    "    return min_val, max_val, fail_names\n",
    "\n",
    "vmin, vmax, fail_names = sandbox_compute_norm_range('sample_data/PB522-14-MAX_Fused.tif', percentiles=(1, 99.5), sample_r=1)\n",
    "# vmin, vmax, fail_names = compute_norm_range('sample_data', ext='tif', percentiles=(1, 99.5), sample_r=1)"
   ]
  },
  {
   "cell_type": "code",
   "execution_count": 5,
   "metadata": {},
   "outputs": [],
   "source": [
    "# config = yaml.load(open(\"model_config.yaml\", \"r\"), Loader=yaml.FullLoader)\n",
    "# config['dataset'] = 'sample_data'\n",
    "# config['norm-range'] = [int(vmin), int(vmax)]\n",
    "# config['threads'] = 0"
   ]
  },
  {
   "cell_type": "markdown",
   "metadata": {},
   "source": [
    "# Create model instance\n",
    "* Create instance of denoiser with new config data"
   ]
  },
  {
   "cell_type": "code",
   "execution_count": 6,
   "metadata": {},
   "outputs": [],
   "source": [
    "# Set background screening to false to allow PB522-14-MAX-Fused.tif to be accepted\n",
    "# denoiser = Denoiser(config, screen_bg=False)"
   ]
  },
  {
   "cell_type": "code",
   "execution_count": 7,
   "metadata": {},
   "outputs": [],
   "source": [
    "# Denoiser only works on grayscale images\n",
    "# denoiser.denoise(sampling=True, sample_rate=.10)"
   ]
  },
  {
   "cell_type": "code",
   "execution_count": 8,
   "metadata": {},
   "outputs": [
    {
     "name": "stderr",
     "output_type": "stream",
     "text": [
      "Using cache found in C:\\Users\\lociuser/.cache\\torch\\hub\\mateuszbuda_brain-segmentation-pytorch_master\n"
     ]
    }
   ],
   "source": [
    "# vmin, vmax, fail_names = compute_norm_range('sample_data', ext='tif', percentiles=(1, 99.5), sample_r=1)\n",
    "config = yaml.load(open(\"model_config.yaml\", \"r\"), Loader=yaml.FullLoader)\n",
    "config['dataset'] = 'sample_data'\n",
    "config['norm-range'] = [int(vmin), int(vmax)]\n",
    "config['threads'] = 0\n",
    "denoiser = Denoiser(config, screen_bg=False)"
   ]
  },
  {
   "cell_type": "markdown",
   "metadata": {},
   "source": [
    "# Denoise\n",
    "\n",
    "Works on one image input without need of config file"
   ]
  },
  {
   "cell_type": "code",
   "execution_count": 9,
   "metadata": {},
   "outputs": [
    {
     "name": "stdout",
     "output_type": "stream",
     "text": [
      "Processed\r"
     ]
    }
   ],
   "source": [
    "import warnings\n",
    "from skimage import exposure\n",
    "import torch.nn.functional as F \n",
    "\n",
    "average_factor = 50\n",
    "blindspot_rate = 0.05\n",
    "pass_times = int(1/blindspot_rate * average_factor)\n",
    "iterations = int(np.ceil(pass_times/50))\n",
    "model = denoiser.backbone\n",
    "device = next(model.parameters()).device\n",
    "fname = \"sample_data/PB522-14-MAX_Fused.tif\"\n",
    "img_arr = img_as_uint(io.imread(fname))[:256, :256]\n",
    "img_arr = exposure.rescale_intensity(img_arr, in_range=(int(vmin), int(vmax)), out_range=(0, 65535)).astype(int)\n",
    "img_input = exposure.rescale_intensity(img_arr, in_range=(0, 65535), out_range=(0, 1))\n",
    "img_tensor = torch.from_numpy(img_input)\n",
    "img_hyper_tensor = img_tensor.expand([50, 1, img_tensor.shape[0], img_tensor.shape[1]]).float().to(device)\n",
    "out_tensor = img_tensor * 0\n",
    "for i in range(iterations):\n",
    "    drop_mask = F.dropout(torch.ones(img_hyper_tensor.shape, requires_grad=False).to(device), p=blindspot_rate, inplace=True)*(1-blindspot_rate) # p percent zero, keep\n",
    "    pad_mask = (1-drop_mask) * torch.ones(img_hyper_tensor.shape, device=device, dtype=torch.float32) * torch.mean(img_hyper_tensor, (2, 3), keepdim=True).expand_as(img_hyper_tensor)\n",
    "    spotted = torch.mul(img_hyper_tensor, drop_mask) + pad_mask\n",
    "    prediction = model(spotted)\n",
    "    prediction = torch.mul(prediction, 1-drop_mask)/blindspot_rate\n",
    "    out_tensor += torch.mean(prediction, 0).squeeze().cpu()/iterations\n",
    "with warnings.catch_warnings():\n",
    "    warnings.simplefilter('ignore')\n",
    "    out_arr = img_as_uint(np.clip(out_tensor.detach().numpy().squeeze(), 0, 1))\n",
    "    img_name = os.path.basename(fname)\n",
    "    io.imsave(os.path.join(\"output-self/sample_data/clean/\", img_name), out_arr)\n",
    "    io.imsave(os.path.join(\"output-self/sample_data/noisy/\", img_name), img_as_uint(img_arr))\n",
    "print(f'Processed', end='\\r')"
   ]
  },
  {
   "cell_type": "code",
   "execution_count": null,
   "metadata": {},
   "outputs": [],
   "source": []
  }
 ],
 "metadata": {
  "kernelspec": {
   "display_name": "lsm-run-time-enhancement",
   "language": "python",
   "name": "python3"
  },
  "language_info": {
   "codemirror_mode": {
    "name": "ipython",
    "version": 3
   },
   "file_extension": ".py",
   "mimetype": "text/x-python",
   "name": "python",
   "nbconvert_exporter": "python",
   "pygments_lexer": "ipython3",
   "version": "3.11.6"
  },
  "orig_nbformat": 4
 },
 "nbformat": 4,
 "nbformat_minor": 2
}
