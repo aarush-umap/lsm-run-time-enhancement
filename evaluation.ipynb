{
 "cells": [
  {
   "cell_type": "code",
   "execution_count": 3,
   "metadata": {},
   "outputs": [],
   "source": [
    "from lsm_utils import eval_psnr, eval_FID, read_CA_feats \n",
    "from glob import glob\n",
    "import os\n",
    "import pandas as pd\n",
    "from skimage import transform, io, img_as_uint\n",
    "from os import path"
   ]
  },
  {
   "cell_type": "code",
   "execution_count": 3,
   "metadata": {},
   "outputs": [
    {
     "name": "stderr",
     "output_type": "stream",
     "text": [
      "90it [00:10,  8.62it/s]\n",
      "90it [00:05, 16.90it/s]\n"
     ]
    }
   ],
   "source": [
    "outputs = glob('output/datasets/lsm-pair-plain/output/*.tif')\n",
    "targets = glob('output/datasets/lsm-pair-plain/target/*.tif')\n",
    "inputs = glob('output/datasets/lsm-pair-plain/input/*.tif')\n",
    "psnr_output = eval_psnr(fnames=outputs, ref_fnames=targets)\n",
    "psnr_input = eval_psnr(fnames=inputs, ref_fnames=targets)"
   ]
  },
  {
   "cell_type": "code",
   "execution_count": 6,
   "metadata": {},
   "outputs": [
    {
     "name": "stderr",
     "output_type": "stream",
     "text": [
      "100%|██████████| 12/12 [00:18<00:00,  1.53s/it]\n",
      "100%|██████████| 12/12 [00:15<00:00,  1.26s/it]\n"
     ]
    }
   ],
   "source": [
    "fid_output = eval_FID(dir='output/datasets/lsm-pair-gan-vgg16/output', ref_dir='output/datasets/lsm-pair-gan-vgg16/target')"
   ]
  },
  {
   "cell_type": "code",
   "execution_count": 5,
   "metadata": {},
   "outputs": [
    {
     "name": "stderr",
     "output_type": "stream",
     "text": [
      "100%|██████████| 12/12 [00:07<00:00,  1.64it/s]\n",
      "100%|██████████| 12/12 [00:08<00:00,  1.50it/s]\n"
     ]
    }
   ],
   "source": [
    "fid_input = eval_FID(dir='output/datasets/lsm-pair-plain/input', ref_dir='output/datasets/lsm-pair-plain/target')"
   ]
  },
  {
   "cell_type": "code",
   "execution_count": 13,
   "metadata": {},
   "outputs": [],
   "source": [
    "imgs = glob('output/CA_dir/input/*.tif')\n",
    "for img in imgs:\n",
    "    arr = io.imread(img)\n",
    "    arr = img_as_uint(transform.rescale(arr, 2, order=1))\n",
    "    io.imsave(img, arr)"
   ]
  },
  {
   "cell_type": "code",
   "execution_count": 5,
   "metadata": {},
   "outputs": [],
   "source": [
    "CA_dir = 'output/CA_dir/input'\n",
    "im_fnames = glob(path.join(CA_dir, '*.tif'))\n",
    "for fname in im_fnames:\n",
    "    CA_align, CA_dense =  read_CA_feats(CA_dir, path.splitext(path.basename(fname))[0])"
   ]
  },
  {
   "cell_type": "code",
   "execution_count": null,
   "metadata": {},
   "outputs": [],
   "source": []
  }
 ],
 "metadata": {
  "kernelspec": {
   "display_name": "Python 3.8.13 ('pt')",
   "language": "python",
   "name": "python3"
  },
  "language_info": {
   "codemirror_mode": {
    "name": "ipython",
    "version": 3
   },
   "file_extension": ".py",
   "mimetype": "text/x-python",
   "name": "python",
   "nbconvert_exporter": "python",
   "pygments_lexer": "ipython3",
   "version": "3.8.13"
  },
  "orig_nbformat": 4,
  "vscode": {
   "interpreter": {
    "hash": "de88db708fd7569f2666ff37f921dc0f88a8459546879a55f00d65d0006c4c3e"
   }
  }
 },
 "nbformat": 4,
 "nbformat_minor": 2
}
