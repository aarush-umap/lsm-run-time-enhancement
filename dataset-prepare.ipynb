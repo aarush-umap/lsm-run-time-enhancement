{
 "cells": [
  {
   "cell_type": "markdown",
   "metadata": {},
   "source": [
    "## Required functions\n",
    "Run before executing the dataset pre-processing code."
   ]
  },
  {
   "cell_type": "code",
   "execution_count": null,
   "metadata": {},
   "outputs": [],
   "source": [
    "import os, glob, sys\n",
    "from pycromanager import Dataset\n",
    "from skimage import io, img_as_ubyte, exposure\n",
    "import numpy as np\n",
    "\n",
    "def thres_saturation(img, t=15, img_channel=3):\n",
    "    img = img_as_ubyte(img)\n",
    "    if img_channel==3:\n",
    "        # typical t = 15\n",
    "        img = rgb2hsv(img)\n",
    "        h, w, c = img.shape\n",
    "        sat_img = img[:, :, 1]\n",
    "        sat_img = img_as_ubyte(sat_img)\n",
    "        ave_sat = np.sum(sat_img) / (h * w)\n",
    "    if img_channel==1:\n",
    "        # typical t = 20\n",
    "        h, w = img.shape\n",
    "        ave_sat = np.sum(img) / (h * w)\n",
    "    return ave_sat >= t"
   ]
  },
  {
   "cell_type": "markdown",
   "metadata": {},
   "source": [
    "## Configruations\n",
    "Run after the adjustment."
   ]
  },
  {
   "cell_type": "code",
   "execution_count": null,
   "metadata": {},
   "outputs": [],
   "source": [
    "data_config = {\n",
    "    \"resolution\" : 256,\n",
    "    \"background-threshold\" : 15\n",
    "}"
   ]
  },
  {
   "cell_type": "markdown",
   "metadata": {},
   "source": [
    "## Datasets pre-processing code"
   ]
  },
  {
   "cell_type": "code",
   "execution_count": null,
   "metadata": {},
   "outputs": [],
   "source": [
    "data_folder = os.path.join('raw-data', str(data_config[\"resolution\"]), '*')\n",
    "datasets = glob.glob(data_folder)\n",
    "slices_path = 'data'\n",
    "os.makedirs(os.path.join('data', str(data_config[\"resolution\"])), exist_ok=True)\n",
    "for data_path in datasets:\n",
    "    try:\n",
    "        print(data_path)\n",
    "        dataset = Dataset(data_path)\n",
    "        for pos in range(0, 200):\n",
    "            z_idx = 0\n",
    "            while(dataset.has_image(position=pos, z=z_idx)):\n",
    "                img = dataset.read_image(position=pos, z=z_idx)\n",
    "                z_idx = z_idx+1\n",
    "                if thres_saturation(img, t=data_config[\"background-threshold\"], img_channel=1):\n",
    "                    save_name = os.path.join(slices_path, data_path.split(os.sep)[-1].split(\".\")[0]+'_'+str(pos)+'_'+str(z_idx)+'.png')\n",
    "                    io.imsave(save_name, img_as_ubyte(img))\n",
    "    except:\n",
    "        print(\"Dataset open failed! /n\")"
   ]
  }
 ],
 "metadata": {
  "kernelspec": {
   "display_name": "Python 3",
   "language": "python",
   "name": "python3"
  },
  "language_info": {
   "codemirror_mode": {
    "name": "ipython",
    "version": 3
   },
   "file_extension": ".py",
   "mimetype": "text/x-python",
   "name": "python",
   "nbconvert_exporter": "python",
   "pygments_lexer": "ipython3",
   "version": "3.7.6"
  }
 },
 "nbformat": 4,
 "nbformat_minor": 4
}
